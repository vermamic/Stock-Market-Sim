{
 "cells": [
  {
   "cell_type": "markdown",
   "metadata": {},
   "source": [
    "# Stock Market Simulation\n",
    "\n",
    "\"We're going to be rich!\" -Bernie Madoff\n",
    "\n",
    "\n"
   ]
  },
  {
   "cell_type": "markdown",
   "metadata": {},
   "source": [
    "### Part 1:\n",
    "For this first part, the goal is to get data into Python using the website: https://www.quandl.com/tools/python\n"
   ]
  },
  {
   "cell_type": "code",
   "execution_count": 39,
   "metadata": {},
   "outputs": [],
   "source": [
    "#import quandl\n",
    "import quandl\n",
    "quandl.ApiConfig.api_key = 'XWraM_oUgKfXWAwQr44y'\n",
    "quandl.ApiConfig.api_version = '2015-04-09'\n",
    "\n",
    "#set key (false for non premium users apparently)\n",
    "quandl.ApiConfig.verify_ssl = False\n",
    "\n",
    "#save local key\n",
    "quandl.save_key(\"XWraM_oUgKfXWAwQr44y\")"
   ]
  },
  {
   "cell_type": "markdown",
   "metadata": {},
   "source": [
    "### Part 2:\n",
    "We now need to load the data. Quandl has two types of data: time series and tables(not time series). Some details for how to call the data can be found in the links below:\n",
    "##### https://blog.quandl.com/api-for-stock-data\n",
    "##### https://docs.quandl.com/docs/python-time-series\n",
    "##### https://www.quandl.com/databases/ZEE/documentation \n",
    "(scroll to the bottom to see the free sample data companies they offer)"
   ]
  },
  {
   "cell_type": "code",
   "execution_count": 41,
   "metadata": {},
   "outputs": [
    {
     "name": "stderr",
     "output_type": "stream",
     "text": [
      "C:\\Users\\Marilyn\\Anaconda3\\lib\\site-packages\\urllib3\\connectionpool.py:847: InsecureRequestWarning: Unverified HTTPS request is being made. Adding certificate verification is strongly advised. See: https://urllib3.readthedocs.io/en/latest/advanced-usage.html#ssl-warnings\n",
      "  InsecureRequestWarning)\n"
     ]
    },
    {
     "data": {
      "text/html": [
       "<div>\n",
       "<style scoped>\n",
       "    .dataframe tbody tr th:only-of-type {\n",
       "        vertical-align: middle;\n",
       "    }\n",
       "\n",
       "    .dataframe tbody tr th {\n",
       "        vertical-align: top;\n",
       "    }\n",
       "\n",
       "    .dataframe thead th {\n",
       "        text-align: right;\n",
       "    }\n",
       "</style>\n",
       "<table border=\"1\" class=\"dataframe\">\n",
       "  <thead>\n",
       "    <tr style=\"text-align: right;\">\n",
       "      <th></th>\n",
       "      <th>Open</th>\n",
       "      <th>High</th>\n",
       "      <th>Low</th>\n",
       "      <th>Close</th>\n",
       "      <th>Volume</th>\n",
       "    </tr>\n",
       "    <tr>\n",
       "      <th>Date</th>\n",
       "      <th></th>\n",
       "      <th></th>\n",
       "      <th></th>\n",
       "      <th></th>\n",
       "      <th></th>\n",
       "    </tr>\n",
       "  </thead>\n",
       "  <tbody>\n",
       "    <tr>\n",
       "      <td>2017-01-03</td>\n",
       "      <td>2655.40</td>\n",
       "      <td>2700.89</td>\n",
       "      <td>2655.40</td>\n",
       "      <td>2685.02</td>\n",
       "      <td>0.0</td>\n",
       "    </tr>\n",
       "    <tr>\n",
       "      <td>2017-01-04</td>\n",
       "      <td>2685.97</td>\n",
       "      <td>2696.51</td>\n",
       "      <td>2671.44</td>\n",
       "      <td>2682.64</td>\n",
       "      <td>0.0</td>\n",
       "    </tr>\n",
       "    <tr>\n",
       "      <td>2017-01-05</td>\n",
       "      <td>2682.82</td>\n",
       "      <td>2699.39</td>\n",
       "      <td>2679.81</td>\n",
       "      <td>2696.30</td>\n",
       "      <td>0.0</td>\n",
       "    </tr>\n",
       "    <tr>\n",
       "      <td>2017-01-09</td>\n",
       "      <td>2696.42</td>\n",
       "      <td>2697.14</td>\n",
       "      <td>2668.93</td>\n",
       "      <td>2678.69</td>\n",
       "      <td>0.0</td>\n",
       "    </tr>\n",
       "    <tr>\n",
       "      <td>2017-01-10</td>\n",
       "      <td>2678.64</td>\n",
       "      <td>2682.49</td>\n",
       "      <td>2653.51</td>\n",
       "      <td>2659.70</td>\n",
       "      <td>0.0</td>\n",
       "    </tr>\n",
       "  </tbody>\n",
       "</table>\n",
       "</div>"
      ],
      "text/plain": [
       "               Open     High      Low    Close  Volume\n",
       "Date                                                  \n",
       "2017-01-03  2655.40  2700.89  2655.40  2685.02     0.0\n",
       "2017-01-04  2685.97  2696.51  2671.44  2682.64     0.0\n",
       "2017-01-05  2682.82  2699.39  2679.81  2696.30     0.0\n",
       "2017-01-09  2696.42  2697.14  2668.93  2678.69     0.0\n",
       "2017-01-10  2678.64  2682.49  2653.51  2659.70     0.0"
      ]
     },
     "execution_count": 41,
     "metadata": {},
     "output_type": "execute_result"
    }
   ],
   "source": [
    "data = quandl.get('BCIW/_ATX',ticker='AAPL')\n",
    "\n",
    "data.head()"
   ]
  }
 ],
 "metadata": {
  "kernelspec": {
   "display_name": "Python 3",
   "language": "python",
   "name": "python3"
  },
  "language_info": {
   "codemirror_mode": {
    "name": "ipython",
    "version": 3
   },
   "file_extension": ".py",
   "mimetype": "text/x-python",
   "name": "python",
   "nbconvert_exporter": "python",
   "pygments_lexer": "ipython3",
   "version": "3.7.4"
  }
 },
 "nbformat": 4,
 "nbformat_minor": 2
}
